{
 "cells": [
  {
   "cell_type": "code",
   "execution_count": 2,
   "metadata": {},
   "outputs": [],
   "source": [
    "#imports\n",
    "%matplotlib inline\n",
    "import numpy as np\n",
    "import pandas as pd\n",
    "from sklearn.datasets import load_breast_cancer\n",
    "from sklearn import svm\n",
    "from sklearn.svm import SVC\n",
    "from sklearn.model_selection import cross_val_predict\n",
    "from sklearn import metrics\n",
    "from sklearn import preprocessing\n",
    "from sklearn.model_selection import RandomizedSearchCV\n",
    "from sklearn.tree import DecisionTreeClassifier\n",
    "import sys"
   ]
  },
  {
   "cell_type": "code",
   "execution_count": 3,
   "metadata": {},
   "outputs": [
    {
     "name": "stdout",
     "output_type": "stream",
     "text": [
      "[53] 53\n",
      "got it for year 2011\n",
      "[56] 116\n",
      "[117] 128\n",
      "[128] 53\n",
      "[65] 65\n",
      "got it for year 2015\n",
      "[65] 271\n"
     ]
    }
   ],
   "source": [
    "#read in data\n",
    "df = pd.read_csv('https://query.data.world/s/tsraemwghzslzokuqybdnphmt3g7u3')\n",
    "dataset = df.values\n",
    "dataset = np.delete(dataset,2,1)\n",
    "dataset = np.delete(dataset,0,1)\n",
    "le = preprocessing.LabelEncoder() \n",
    "le = le.fit(dataset[:,0])\n",
    "dataset[:,0] = le.transform(dataset[:,0])\n",
    "le = le.fit(dataset[:,5])\n",
    "dataset[:,2] = le.transform(dataset[:,2])\n",
    "dataset[:,5] = le.transform(dataset[:,5])\n",
    "X = dataset[:,0:6]\n",
    "y = dataset[:,2]\n",
    "y = y.astype('int')\n",
    "C = 1.0  # SVM regularization parameter\n",
    "model = (svm.SVC(kernel='poly', degree=7, gamma='auto', C=C))\n",
    "'''\n",
    "C_range = np.logspace(-2, 10, 13)\n",
    "gamma_range = np.logspace(-9, 3, 13)\n",
    "degree_range = [5,6,7,8,9,10]\n",
    "\n",
    "param_dist = {\"gamma\": gamma_range,\n",
    "              \"C\": C_range,\n",
    "              'degree': degree_range,\n",
    "              'kernel': ['poly'],\n",
    "              'class_weight':['balanced', None]}\n",
    "n_iter_search = 10\n",
    "random_search = RandomizedSearchCV(model, param_distributions=param_dist,\n",
    "                                   n_iter=n_iter_search, cv=5)\n",
    "\n",
    "random_search.fit(X, y)\n",
    "print(random_search.best_score_)\n",
    "\n",
    "print(random_search.best_estimator_.gamma)\n",
    "\n",
    "print(random_search.best_estimator_.C)\n",
    "'''\n",
    "for i in range(6):\n",
    "    model.fit(X[1648 + i*67:1648 + i*67 + 66,:],y[1648 + i*67:1648 + i*67 + 66])\n",
    "    correct = 0\n",
    "    prediction = model.predict(X[1648 + i*67 - 1,:].reshape(1, -1))\n",
    "    print(prediction, y[1648 + i*67 + 66] )\n",
    "    if prediction == y[1648 + i*67 + 66]:\n",
    "        print(\"got it for year\", 2011 + i)\n",
    "    "
   ]
  },
  {
   "cell_type": "code",
   "execution_count": null,
   "metadata": {},
   "outputs": [],
   "source": [
    "from sportsreference.ncaab.teams import Teams\n",
    "from sklearn.ensemble import RandomForestRegressor\n",
    "from sklearn.model_selection import train_test_split\n",
    "\n",
    "FIELDS_TO_DROP = ['away_points', 'home_points', 'date', 'location',\n",
    "                  'losing_abbr', 'losing_name', 'winner', 'winning_abbr',\n",
    "                  'winning_name', 'home_ranking', 'away_ranking']\n",
    "\n",
    "dataset = pd.DataFrame()\n",
    "teams = Teams(2018)\n",
    "for team in teams:\n",
    "    dataset = pd.concat([dataset, team.schedule.dataframe_extended])\n",
    "print(\"done creating the dataset\")\n",
    "print(\"done creating second dataset\")\n",
    "X = dataset.drop(FIELDS_TO_DROP, 1).dropna().drop_duplicates()\n",
    "y = dataset[['home_points', 'away_points']].values\n",
    "print(\"done setting up X and y\")\n",
    "X_train, X_test, y_train, y_test = train_test_split(X, y)\n",
    "print(\"done training\")\n",
    "parameters = {'bootstrap': False,\n",
    "              'min_samples_leaf': 3,\n",
    "              'n_estimators': 5,\n",
    "              'min_samples_split': 10,\n",
    "              'max_features': 'sqrt',\n",
    "              'max_depth': 6}\n",
    "model = RandomForestRegressor(**parameters)\n",
    "print(\"done setting up parameters\")\n",
    "model.fit(X_train, y_train)\n",
    "print(\"done fitting the model\")\n",
    "print(model.predict(X_test).astype(int), y_test)\n",
    "print(\"done\")"
   ]
  },
  {
   "cell_type": "code",
   "execution_count": null,
   "metadata": {},
   "outputs": [],
   "source": []
  }
 ],
 "metadata": {
  "kernelspec": {
   "display_name": "Python 3",
   "language": "python",
   "name": "python3"
  }
 },
 "nbformat": 4,
 "nbformat_minor": 2
}
